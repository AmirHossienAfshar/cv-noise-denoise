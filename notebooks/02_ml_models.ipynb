{
  "cells": [
    {
      "cell_type": "code",
      "execution_count": null,
      "id": "6PPaT5QIQv3j",
      "metadata": {
        "colab": {
          "base_uri": "https://localhost:8080/"
        },
        "id": "6PPaT5QIQv3j",
        "outputId": "8acb83c9-3ad2-407c-89ea-12c863c27d77"
      },
      "outputs": [],
      "source": [
        "\n",
        "import os\n",
        "import numpy as np\n",
        "import pandas as pd\n",
        "import matplotlib.pyplot as plt\n",
        "import seaborn as sns\n",
        "from PIL import Image\n",
        "import glob\n",
        "from sklearn.model_selection import train_test_split\n",
        "from sklearn.preprocessing import StandardScaler, LabelEncoder\n",
        "from sklearn.svm import SVC\n",
        "from sklearn.tree import DecisionTreeClassifier\n",
        "from sklearn.linear_model import LogisticRegression\n",
        "from sklearn.metrics import accuracy_score, classification_report, confusion_matrix\n",
        "from sklearn.decomposition import PCA\n",
        "from sklearn.ensemble import RandomForestClassifier\n",
        "import time\n",
        "import warnings\n",
        "warnings.filterwarnings('ignore')"
      ]
    },
    {
      "cell_type": "code",
      "execution_count": null,
      "id": "GG-Y_X70Q07p",
      "metadata": {
        "colab": {
          "base_uri": "https://localhost:8080/"
        },
        "id": "GG-Y_X70Q07p",
        "outputId": "518a856a-304c-4261-fb98-4bfc512102ce"
      },
      "outputs": [
        {
          "name": "stdout",
          "output_type": "stream",
          "text": [
            "Loading 1000 images from gaussian_poisson\n",
            "Loading 1000 images from poisson_speckle\n",
            "Loading 1000 images from gaussian_uniform\n",
            "Loading 1000 images from gaussian_salt_pepper\n",
            "Loading 1000 images from poisson\n",
            "Loading 1000 images from gaussian_speckle\n",
            "Loading 1000 images from salt_pepper_uniform\n",
            "Loading 1000 images from uniform\n",
            "Loading 1000 images from gaussian_salt_pepper_speckle\n",
            "Loading 1000 images from speckle_uniform\n",
            "Loading 1000 images from salt_pepper\n",
            "Loading 1000 images from gaussian\n",
            "Loading 1000 images from salt_pepper_speckle_uniform\n",
            "Loading 1000 images from poisson_uniform\n",
            "Loading 1000 images from speckle\n",
            "Loading 1000 images from gaussian_poisson_uniform\n",
            "Loading 1000 images from salt_pepper_speckle\n",
            "Total images loaded: 16949\n",
            "Image shape: (224, 224, 3)\n",
            "Unique labels (noise types): ['gaussian' 'gaussian_poisson' 'gaussian_poisson_uniform'\n",
            " 'gaussian_salt_pepper' 'gaussian_salt_pepper_speckle' 'gaussian_speckle'\n",
            " 'gaussian_uniform' 'poisson' 'poisson_speckle' 'poisson_uniform'\n",
            " 'salt_pepper' 'salt_pepper_speckle' 'salt_pepper_speckle_uniform'\n",
            " 'salt_pepper_uniform' 'speckle' 'speckle_uniform' 'uniform']\n"
          ]
        }
      ],
      "source": [
        "current_dir = os.getcwd()\n",
        "NOISY_BASE_DIR = os.path.join(current_dir, \"content\", \"data\", \"noisy\")\n",
        "\n",
        "def load_images_and_labels_from_noise_dirs(base_dir, expected_shape=(224, 224, 3), max_images_per_dir=2500):\n",
        "    \"\"\"Load up to `max_images_per_dir` images per noise type and label by directory name\"\"\"\n",
        "    images = []\n",
        "    labels = []\n",
        "\n",
        "    for noise_label in os.listdir(base_dir):\n",
        "        noise_dir = os.path.join(base_dir, noise_label)\n",
        "        if not os.path.isdir(noise_dir):\n",
        "            continue\n",
        "\n",
        "        image_files = glob.glob(os.path.join(noise_dir, \"*.png\"))\n",
        "        image_files = image_files[:max_images_per_dir]  # Limit number of images\n",
        "\n",
        "        print(f\"Loading {len(image_files)} images from {noise_label}\")\n",
        "\n",
        "        for img_path in image_files:\n",
        "            try:\n",
        "                img = Image.open(img_path).convert('RGB')\n",
        "                img_array = np.array(img)\n",
        "\n",
        "                if img_array.shape != expected_shape:\n",
        "                    # print(f\"Skipping {img_path} due to unexpected shape: {img_array.shape}\")\n",
        "                    continue\n",
        "\n",
        "                images.append(img_array)\n",
        "                labels.append(noise_label)\n",
        "\n",
        "            except Exception as e:\n",
        "                print(f\"Error loading {img_path}: {e}\")\n",
        "\n",
        "    return np.array(images), np.array(labels)\n",
        "\n",
        "X, y = load_images_and_labels_from_noise_dirs(NOISY_BASE_DIR, max_images_per_dir=1000)\n",
        "\n",
        "print(f\"Total images loaded: {len(X)}\")\n",
        "print(f\"Image shape: {X[0].shape}\")\n",
        "print(f\"Unique labels (noise types): {np.unique(y)}\")"
      ]
    },
    {
      "cell_type": "code",
      "execution_count": 4,
      "id": "EdDreUFrkjAY",
      "metadata": {
        "id": "EdDreUFrkjAY"
      },
      "outputs": [],
      "source": [
        "# Encode labels\n",
        "label_encoder = LabelEncoder()\n",
        "y_encoded = label_encoder.fit_transform(y)"
      ]
    },
    {
      "cell_type": "code",
      "execution_count": null,
      "id": "9EBWjsXbZR7z",
      "metadata": {
        "colab": {
          "base_uri": "https://localhost:8080/"
        },
        "id": "9EBWjsXbZR7z",
        "outputId": "6c652be2-c1ea-4ba0-9867-9c4bb1cee6a3"
      },
      "outputs": [
        {
          "name": "stdout",
          "output_type": "stream",
          "text": [
            "Extracting features for ML classifiers...\n"
          ]
        }
      ],
      "source": [
        "def extract_features(images):\n",
        "    \"\"\"Extract features from images for ML classifiers\"\"\"\n",
        "    features = []\n",
        "\n",
        "    for img in images:\n",
        "        # Flatten image\n",
        "\n",
        "        # Calculate basic statistics\n",
        "        mean_rgb = np.mean(img, axis=(0, 1))\n",
        "        std_rgb = np.std(img, axis=(0, 1))\n",
        "\n",
        "        # Calculate histogram features\n",
        "        hist_r = np.histogram(img[:,:,0], bins=32, range=(0, 255))[0]\n",
        "        hist_g = np.histogram(img[:,:,1], bins=32, range=(0, 255))[0]\n",
        "        hist_b = np.histogram(img[:,:,2], bins=32, range=(0, 255))[0]\n",
        "\n",
        "        # Combine features\n",
        "        feature_vector = np.concatenate([\n",
        "            mean_rgb, std_rgb, hist_r, hist_g, hist_b\n",
        "        ])\n",
        "\n",
        "        features.append(feature_vector)\n",
        "\n",
        "    return np.array(features)\n",
        "\n",
        "print(\"Extracting features for ML classifiers...\")\n",
        "X_features = extract_features(X)"
      ]
    },
    {
      "cell_type": "code",
      "execution_count": 9,
      "id": "sXgbRNsJgGlc",
      "metadata": {
        "colab": {
          "base_uri": "https://localhost:8080/"
        },
        "id": "sXgbRNsJgGlc",
        "outputId": "d06c49d8-c4a9-4499-d81c-fe5dd58ec410"
      },
      "outputs": [
        {
          "name": "stdout",
          "output_type": "stream",
          "text": [
            "Applying PCA for dimensionality reduction...\n",
            "Original feature shape: (33881, 102)\n",
            "PCA feature shape: (33881, 50)\n",
            "Explained variance ratio: [0.27917821 0.23148427 0.11516947 0.07507437 0.03913307]\n"
          ]
        }
      ],
      "source": [
        "# Apply PCA to reduce dimensionality\n",
        "print(\"Applying PCA for dimensionality reduction...\")\n",
        "pca = PCA(n_components=50)\n",
        "X_pca = pca.fit_transform(X_features)\n",
        "\n",
        "print(f\"Original feature shape: {X_features.shape}\")\n",
        "print(f\"PCA feature shape: {X_pca.shape}\")\n",
        "print(f\"Explained variance ratio: {pca.explained_variance_ratio_[:5]}\")"
      ]
    },
    {
      "cell_type": "code",
      "execution_count": 10,
      "id": "zzWrS9S8RjWQ",
      "metadata": {
        "colab": {
          "base_uri": "https://localhost:8080/"
        },
        "id": "zzWrS9S8RjWQ",
        "outputId": "56c01161-f4e8-4ac9-b7e3-6af1f36eeb82"
      },
      "outputs": [
        {
          "name": "stdout",
          "output_type": "stream",
          "text": [
            "Training set: (27104, 50)\n",
            "Test set: (6777, 50)\n"
          ]
        }
      ],
      "source": [
        "# Split data\n",
        "X_train, X_test, y_train, y_test = train_test_split(\n",
        "    X_pca, y_encoded, test_size=0.2, random_state=42, stratify=y_encoded\n",
        ")\n",
        "\n",
        "# Scale features\n",
        "scaler = StandardScaler()\n",
        "X_train_scaled = scaler.fit_transform(X_train)\n",
        "X_test_scaled = scaler.transform(X_test)\n",
        "\n",
        "print(f\"Training set: {X_train_scaled.shape}\")\n",
        "print(f\"Test set: {X_test_scaled.shape}\")"
      ]
    },
    {
      "cell_type": "code",
      "execution_count": null,
      "id": "UA_hsjgoRlKw",
      "metadata": {
        "colab": {
          "base_uri": "https://localhost:8080/"
        },
        "id": "UA_hsjgoRlKw",
        "outputId": "2a2ab412-e64c-40ca-ac95-43bf51300f7d"
      },
      "outputs": [
        {
          "name": "stdout",
          "output_type": "stream",
          "text": [
            "\n",
            "==================================================\n",
            "Training SVM...\n",
            "==================================================\n",
            "SVM Accuracy: 0.8054\n",
            "Training time: 40.60 seconds\n",
            "\n",
            "Classification Report for SVM:\n",
            "                              precision    recall  f1-score   support\n",
            "\n",
            "                    gaussian       0.55      0.61      0.58       398\n",
            "            gaussian_poisson       0.92      0.96      0.94       398\n",
            "    gaussian_poisson_uniform       0.84      0.92      0.88       399\n",
            "        gaussian_salt_pepper       0.95      0.98      0.97       399\n",
            "gaussian_salt_pepper_speckle       0.91      0.98      0.94       399\n",
            "            gaussian_speckle       0.64      0.68      0.66       398\n",
            "            gaussian_uniform       0.80      0.74      0.77       399\n",
            "                     poisson       0.96      0.90      0.93       399\n",
            "             poisson_speckle       0.85      0.90      0.87       399\n",
            "             poisson_uniform       0.83      0.84      0.84       399\n",
            "                 salt_pepper       0.89      0.93      0.91       399\n",
            "         salt_pepper_speckle       0.85      0.79      0.82       398\n",
            " salt_pepper_speckle_uniform       0.91      0.96      0.93       399\n",
            "         salt_pepper_uniform       0.90      0.84      0.87       399\n",
            "                     speckle       0.70      0.46      0.56       398\n",
            "             speckle_uniform       0.55      0.67      0.61       398\n",
            "                     uniform       0.66      0.51      0.57       399\n",
            "\n",
            "                    accuracy                           0.81      6777\n",
            "                   macro avg       0.81      0.81      0.80      6777\n",
            "                weighted avg       0.81      0.81      0.80      6777\n",
            "\n",
            "\n",
            "==================================================\n",
            "Training Decision Tree...\n",
            "==================================================\n",
            "Decision Tree Accuracy: 0.4951\n",
            "Training time: 2.21 seconds\n",
            "\n",
            "Classification Report for Decision Tree:\n",
            "                              precision    recall  f1-score   support\n",
            "\n",
            "                    gaussian       0.21      0.22      0.21       398\n",
            "            gaussian_poisson       0.82      0.92      0.87       398\n",
            "    gaussian_poisson_uniform       0.53      0.75      0.62       399\n",
            "        gaussian_salt_pepper       0.80      0.78      0.79       399\n",
            "gaussian_salt_pepper_speckle       0.75      0.76      0.76       399\n",
            "            gaussian_speckle       0.32      0.38      0.35       398\n",
            "            gaussian_uniform       0.27      0.41      0.32       399\n",
            "                     poisson       0.91      0.79      0.85       399\n",
            "             poisson_speckle       0.40      0.36      0.38       399\n",
            "             poisson_uniform       0.27      0.26      0.27       399\n",
            "                 salt_pepper       0.64      0.48      0.54       399\n",
            "         salt_pepper_speckle       0.43      0.46      0.44       398\n",
            " salt_pepper_speckle_uniform       0.60      0.52      0.56       399\n",
            "         salt_pepper_uniform       0.53      0.53      0.53       399\n",
            "                     speckle       0.39      0.28      0.32       398\n",
            "             speckle_uniform       0.29      0.26      0.27       398\n",
            "                     uniform       0.39      0.24      0.30       399\n",
            "\n",
            "                    accuracy                           0.50      6777\n",
            "                   macro avg       0.50      0.49      0.49      6777\n",
            "                weighted avg       0.50      0.50      0.49      6777\n",
            "\n",
            "\n",
            "==================================================\n",
            "Training Logistic Regression...\n",
            "==================================================\n",
            "Logistic Regression Accuracy: 0.6441\n",
            "Training time: 6.58 seconds\n",
            "\n",
            "Classification Report for Logistic Regression:\n",
            "                              precision    recall  f1-score   support\n",
            "\n",
            "                    gaussian       0.46      0.34      0.39       398\n",
            "            gaussian_poisson       0.84      0.83      0.84       398\n",
            "    gaussian_poisson_uniform       0.64      0.57      0.60       399\n",
            "        gaussian_salt_pepper       0.83      0.86      0.85       399\n",
            "gaussian_salt_pepper_speckle       0.72      0.85      0.78       399\n",
            "            gaussian_speckle       0.55      0.47      0.51       398\n",
            "            gaussian_uniform       0.58      0.49      0.53       399\n",
            "                     poisson       0.83      0.85      0.84       399\n",
            "             poisson_speckle       0.61      0.83      0.70       399\n",
            "             poisson_uniform       0.52      0.66      0.58       399\n",
            "                 salt_pepper       0.82      0.69      0.75       399\n",
            "         salt_pepper_speckle       0.78      0.70      0.74       398\n",
            " salt_pepper_speckle_uniform       0.78      0.89      0.83       399\n",
            "         salt_pepper_uniform       0.87      0.82      0.84       399\n",
            "                     speckle       0.37      0.42      0.39       398\n",
            "             speckle_uniform       0.35      0.30      0.33       398\n",
            "                     uniform       0.37      0.36      0.36       399\n",
            "\n",
            "                    accuracy                           0.64      6777\n",
            "                   macro avg       0.64      0.64      0.64      6777\n",
            "                weighted avg       0.64      0.64      0.64      6777\n",
            "\n",
            "\n",
            "==================================================\n",
            "Training Random Forest...\n",
            "==================================================\n",
            "Random Forest Accuracy: 0.7359\n",
            "Training time: 28.53 seconds\n",
            "\n",
            "Classification Report for Random Forest:\n",
            "                              precision    recall  f1-score   support\n",
            "\n",
            "                    gaussian       0.49      0.42      0.45       398\n",
            "            gaussian_poisson       0.93      0.96      0.95       398\n",
            "    gaussian_poisson_uniform       0.75      0.93      0.83       399\n",
            "        gaussian_salt_pepper       0.97      0.98      0.97       399\n",
            "gaussian_salt_pepper_speckle       0.92      0.99      0.96       399\n",
            "            gaussian_speckle       0.54      0.55      0.54       398\n",
            "            gaussian_uniform       0.56      0.60      0.58       399\n",
            "                     poisson       0.96      0.93      0.94       399\n",
            "             poisson_speckle       0.76      0.84      0.80       399\n",
            "             poisson_uniform       0.69      0.67      0.68       399\n",
            "                 salt_pepper       0.93      0.85      0.89       399\n",
            "         salt_pepper_speckle       0.74      0.77      0.75       398\n",
            " salt_pepper_speckle_uniform       0.76      0.83      0.79       399\n",
            "         salt_pepper_uniform       0.74      0.71      0.72       399\n",
            "                     speckle       0.64      0.51      0.56       398\n",
            "             speckle_uniform       0.52      0.53      0.53       398\n",
            "                     uniform       0.54      0.46      0.49       399\n",
            "\n",
            "                    accuracy                           0.74      6777\n",
            "                   macro avg       0.73      0.74      0.73      6777\n",
            "                weighted avg       0.73      0.74      0.73      6777\n",
            "\n"
          ]
        }
      ],
      "source": [
        "classifiers = {\n",
        "    'SVM': SVC(kernel='rbf', random_state=42),\n",
        "    'Decision Tree': DecisionTreeClassifier(random_state=42, max_depth=10),\n",
        "    'Logistic Regression': LogisticRegression(random_state=42, max_iter=1000),\n",
        "    'Random Forest': RandomForestClassifier(n_estimators=100, random_state=42, max_depth=15)\n",
        "}\n",
        "\n",
        "ml_results = {}\n",
        "\n",
        "for name, clf in classifiers.items():\n",
        "    print(f\"\\n{'='*50}\")\n",
        "    print(f\"Training {name}...\")\n",
        "    print(f\"{'='*50}\")\n",
        "\n",
        "    start_time = time.time()\n",
        "\n",
        "    clf.fit(X_train_scaled, y_train)\n",
        "\n",
        "    y_pred = clf.predict(X_test_scaled)\n",
        "\n",
        "    accuracy = accuracy_score(y_test, y_pred)\n",
        "\n",
        "    training_time = time.time() - start_time\n",
        "\n",
        "    print(f\"{name} Accuracy: {accuracy:.4f}\")\n",
        "    print(f\"Training time: {training_time:.2f} seconds\")\n",
        "\n",
        "    ml_results[name] = {\n",
        "        'accuracy': accuracy,\n",
        "        'training_time': training_time,\n",
        "        'predictions': y_pred\n",
        "    }\n",
        "\n",
        "    print(f\"\\nClassification Report for {name}:\")\n",
        "    print(classification_report(y_test, y_pred,\n",
        "                              target_names=label_encoder.classes_))\n"
      ]
    },
    {
      "cell_type": "markdown",
      "id": "EEXRtd_44aKA",
      "metadata": {
        "id": "EEXRtd_44aKA"
      },
      "source": []
    }
  ],
  "metadata": {
    "accelerator": "GPU",
    "colab": {
      "gpuType": "T4",
      "provenance": []
    },
    "kernelspec": {
      "display_name": "new",
      "language": "python",
      "name": "python3"
    },
    "language_info": {
      "codemirror_mode": {
        "name": "ipython",
        "version": 3
      },
      "file_extension": ".py",
      "mimetype": "text/x-python",
      "name": "python",
      "nbconvert_exporter": "python",
      "pygments_lexer": "ipython3",
      "version": "3.11.11"
    }
  },
  "nbformat": 4,
  "nbformat_minor": 5
}
