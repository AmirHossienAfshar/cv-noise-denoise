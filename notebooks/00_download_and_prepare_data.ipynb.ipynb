{
 "cells": [
  {
   "cell_type": "code",
   "execution_count": 13,
   "id": "92f4797b-21a9-4bc1-b319-3497e5031778",
   "metadata": {},
   "outputs": [],
   "source": [
    "import os\n",
    "import zipfile\n",
    "import shutil\n",
    "import numpy as np\n",
    "from tqdm import tqdm\n",
    "from PIL import Image"
   ]
  },
  {
   "cell_type": "code",
   "execution_count": 15,
   "id": "f3ffb020-d23f-428a-aacd-76a33890a8b2",
   "metadata": {},
   "outputs": [],
   "source": [
    "DATASET_ZIP = 'leaf-images.zip'\n",
    "TARGET_SIZE = (128, 128)\n",
    "current_dir = os.getcwd()\n",
    "RAW_DIR = os.path.join(current_dir, \"content\", \"data\", \"raw\")\n",
    "CLEAN_DIR = os.path.join(current_dir, \"content\", \"data\", \"clean\")"
   ]
  },
  {
   "cell_type": "code",
   "execution_count": 17,
   "id": "7eedf9f2-b86f-4b87-be15-d3e885567f54",
   "metadata": {},
   "outputs": [],
   "source": [
    "os.makedirs(RAW_DIR, exist_ok=True)\n",
    "os.makedirs(CLEAN_DIR, exist_ok=True)"
   ]
  },
  {
   "cell_type": "markdown",
   "id": "80f98247-df84-4853-a2d3-e26dc05fe904",
   "metadata": {},
   "source": [
    "if you are using google colab, you would need to upload your kaggle.json file"
   ]
  },
  {
   "cell_type": "code",
   "execution_count": null,
   "id": "959e34a1-69a9-4e1a-9783-6525827e914d",
   "metadata": {},
   "outputs": [],
   "source": [
    "from google.colab import files\n",
    "uploaded = files.upload()\n",
    "os.makedirs('/root/.kaggle', exist_ok=True)\n",
    "shutil.move('kaggle.json', '/root/.kaggle/kaggle.json')\n",
    "os.chmod('/root/.kaggle/kaggle.json', 0o600)"
   ]
  },
  {
   "cell_type": "markdown",
   "id": "5ea3ab5c-f42e-415e-9396-eb3ae3d06751",
   "metadata": {},
   "source": [
    "Or if you wanna load the dataset locally, implement as this:"
   ]
  },
  {
   "cell_type": "code",
   "execution_count": 25,
   "id": "bab6c198-aa9e-4e0d-91e4-4954e238179e",
   "metadata": {},
   "outputs": [],
   "source": [
    "from pathlib import Path\n",
    "if not os.path.exists(str(Path.home() / '.kaggle/kaggle.json')):\n",
    "    print(\"Please upload your kaggle.json to ~/.kaggle/\")\n",
    "else:\n",
    "    os.chmod(str(Path.home() / '.kaggle/kaggle.json'), 0o600)"
   ]
  },
  {
   "cell_type": "code",
   "execution_count": null,
   "id": "a88d84a8-c274-4173-bc9c-97c363a59e78",
   "metadata": {},
   "outputs": [],
   "source": [
    "!kaggle datasets download -d ichhadhari/leaf-images -p {RAW_DIR}"
   ]
  },
  {
   "cell_type": "code",
   "execution_count": null,
   "id": "53ccb104-b26e-49a3-9e65-bab0f0e52cb1",
   "metadata": {},
   "outputs": [],
   "source": [
    "with zipfile.ZipFile(os.path.join(RAW_DIR, DATASET_ZIP), 'r') as zip_ref:\n",
    "    zip_ref.extractall(RAW_DIR)"
   ]
  },
  {
   "cell_type": "code",
   "execution_count": null,
   "id": "4e607dab-fa69-4b5e-a713-bedcb5a717fe",
   "metadata": {},
   "outputs": [],
   "source": [
    "INPUT_IMG_DIR = os.path.join(RAW_DIR, 'leaf-images')\n",
    "\n",
    "image_extensions = ('.jpg', '.jpeg', '.png', '.bmp')\n",
    "\n",
    "img_files = [f for f in os.listdir(INPUT_IMG_DIR) if f.lower().endswith(image_extensions)]\n",
    "\n",
    "print(f\"Found {len(img_files)} images\")\n",
    "\n",
    "for idx, fname in tqdm(enumerate(img_files), total=len(img_files)):\n",
    "    img_path = os.path.join(INPUT_IMG_DIR, fname)\n",
    "    try:\n",
    "        img = Image.open(img_path).convert(\"RGB\")\n",
    "        img_resized = img.resize(TARGET_SIZE)\n",
    "        clean_filename = f\"img_{idx:04d}.png\"\n",
    "        img_resized.save(os.path.join(CLEAN_DIR, clean_filename))\n",
    "    except Exception as e:\n",
    "        print(f\"❌ Failed to process {fname}: {e}\")\n",
    "\n",
    "print(f\"\\nNormalized and saved {len(img_files)} images to: {CLEAN_DIR}\")"
   ]
  }
 ],
 "metadata": {
  "kernelspec": {
   "display_name": "Python [conda env:new]",
   "language": "python",
   "name": "conda-env-new-py"
  },
  "language_info": {
   "codemirror_mode": {
    "name": "ipython",
    "version": 3
   },
   "file_extension": ".py",
   "mimetype": "text/x-python",
   "name": "python",
   "nbconvert_exporter": "python",
   "pygments_lexer": "ipython3",
   "version": "3.11.11"
  }
 },
 "nbformat": 4,
 "nbformat_minor": 5
}
