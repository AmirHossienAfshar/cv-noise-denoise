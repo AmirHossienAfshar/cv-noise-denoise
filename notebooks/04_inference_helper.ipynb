{
 "cells": [
  {
   "cell_type": "code",
   "execution_count": null,
   "id": "c31745dc",
   "metadata": {},
   "outputs": [],
   "source": [
    "import os\n",
    "import torch\n",
    "import torch.nn as nn\n",
    "from torchvision.models import resnet50, ResNet50_Weights\n",
    "from urllib.request import urlretrieve"
   ]
  },
  {
   "cell_type": "markdown",
   "id": "129cd9ab-5b6a-4523-85f7-9b56fa6345e4",
   "metadata": {},
   "source": [
    "As the full fine tunned model was too heavy to load on github to fully support the inference, what I have provided, is the `resnet50_finetune_diff.pth` file, which only keeps the weights of the very last two layers (the fc and layer4); the implementation is as follows: (you don't need to run these two cell below)"
   ]
  },
  {
   "cell_type": "code",
   "execution_count": 2,
   "id": "d7833b36",
   "metadata": {},
   "outputs": [],
   "source": [
    "def save_finetune_diff(base_model, finetuned_model, output_path=\"resnet50_finetune_diff.pth\", rtol=1e-6, atol=1e-8):\n",
    "    \"\"\"\n",
    "    Compare base model and fine-tuned model weights, save only changed weights.\n",
    "    \n",
    "    Args:\n",
    "        base_model (torch.nn.Module): Original pretrained model.\n",
    "        finetuned_model (torch.nn.Module): Fine-tuned model.\n",
    "        output_path (str): Where to save the diff file.\n",
    "        rtol, atol (float): Tolerances for considering parameters 'equal'.\n",
    "    \"\"\"\n",
    "    base_state = base_model.state_dict()\n",
    "    fine_state = finetuned_model.state_dict()\n",
    "\n",
    "    diff_state = {}\n",
    "    for name, fine_tensor in fine_state.items():\n",
    "        base_tensor = base_state.get(name)\n",
    "        # Save if base doesn't have it OR values are different\n",
    "        if base_tensor is None or not torch.allclose(fine_tensor, base_tensor, rtol=rtol, atol=atol):\n",
    "            diff_state[name] = fine_tensor.cpu()\n",
    "\n",
    "    torch.save(diff_state, output_path)\n",
    "    print(f\"[INFO] Saved fine-tune diff with {len(diff_state)} tensors to {output_path}\")\n"
   ]
  },
  {
   "cell_type": "code",
   "execution_count": 4,
   "id": "12a32bd4",
   "metadata": {},
   "outputs": [
    {
     "name": "stderr",
     "output_type": "stream",
     "text": [
      "C:\\Users\\user\\AppData\\Local\\Temp\\ipykernel_26048\\2392862769.py:12: FutureWarning: You are using `torch.load` with `weights_only=False` (the current default value), which uses the default pickle module implicitly. It is possible to construct malicious pickle data which will execute arbitrary code during unpickling (See https://github.com/pytorch/pytorch/blob/main/SECURITY.md#untrusted-models for more details). In a future release, the default value for `weights_only` will be flipped to `True`. This limits the functions that could be executed during unpickling. Arbitrary objects will no longer be allowed to be loaded via this mode unless they are explicitly allowlisted by the user via `torch.serialization.add_safe_globals`. We recommend you start setting `weights_only=True` for any use case where you don't have full control of the loaded file. Please open an issue on GitHub for any issues related to this experimental feature.\n",
      "  finetuned_model.load_state_dict(torch.load(\"resnet50_custom_17class.pth\"))\n"
     ]
    },
    {
     "name": "stdout",
     "output_type": "stream",
     "text": [
      "[INFO] Saved fine-tune diff with 191 tensors to resnet50_finetune_diff.pth\n"
     ]
    }
   ],
   "source": [
    "base_model = resnet50(weights=ResNet50_Weights.IMAGENET1K_V1)\n",
    "base_model.fc = nn.Linear(base_model.fc.in_features, 17)  # match output classes\n",
    "\n",
    "finetuned_model = resnet50(weights=None)\n",
    "finetuned_model.fc = nn.Linear(finetuned_model.fc.in_features, 17)\n",
    "finetuned_model.load_state_dict(torch.load(\"resnet50_custom_17class.pth\"))\n",
    "\n",
    "save_finetune_diff(base_model, finetuned_model, output_path=\"resnet50_finetune_diff.pth\")"
   ]
  },
  {
   "cell_type": "markdown",
   "id": "fecc5adc-02e7-4f11-9f89-dbd68b636981",
   "metadata": {},
   "source": [
    "In order to load the finetuned model's weights, you could simply run this cell below:"
   ]
  },
  {
   "cell_type": "code",
   "execution_count": null,
   "id": "87316fe3",
   "metadata": {},
   "outputs": [],
   "source": [
    "def load_finetuned_resnet50(\n",
    "    num_classes=17,\n",
    "    diff_url=\"https://raw.githubusercontent.com/AmirHossienAfshar/cv-noise-denoise/master/saved_models/resnet50_finetune_diff.pth\",\n",
    "    local_diff_path=\"resnet50_finetune_diff.pth\",\n",
    "    base_model_path=None,\n",
    "    device=None\n",
    "):\n",
    "    \"\"\"\n",
    "    Loads ResNet50, applies fine-tuned diff weights.\n",
    "    \n",
    "    Args:\n",
    "        num_classes (int): Number of output classes.\n",
    "        diff_url (str): URL to download fine-tuned diff weights if not present locally.\n",
    "        local_diff_path (str): Path to store/load the diff weights.\n",
    "        base_model_path (str or None): Optional local path to a full base model checkpoint.\n",
    "                                       If None, use TorchVision pretrained weights.\n",
    "        device (str or None): Device to load model onto.\n",
    "    \"\"\"\n",
    "    device = device or (\"cuda\" if torch.cuda.is_available() else \"cpu\")\n",
    "\n",
    "    if base_model_path and os.path.exists(base_model_path):\n",
    "        print(f\"[INFO] Loading base model from {base_model_path}\")\n",
    "        model = resnet50(weights=None)  # initialize empty\n",
    "        checkpoint = torch.load(base_model_path, map_location=device)\n",
    "        model.load_state_dict(checkpoint)\n",
    "    else:\n",
    "        print(\"[INFO] Loading base model from TorchVision (ImageNet1K weights)\")\n",
    "        model = resnet50(weights=ResNet50_Weights.IMAGENET1K_V1)\n",
    "\n",
    "    model.fc = nn.Linear(model.fc.in_features, num_classes)\n",
    "\n",
    "    if not os.path.exists(local_diff_path):\n",
    "        print(f\"[INFO] Diff file not found. Downloading from {diff_url} ...\")\n",
    "        urlretrieve(diff_url, local_diff_path)\n",
    "        print(f\"[INFO] Downloaded diff to {local_diff_path}\")\n",
    "\n",
    "    diff_state = torch.load(local_diff_path, map_location=device)\n",
    "    model_state = model.state_dict()\n",
    "    model_state.update(diff_state)\n",
    "    model.load_state_dict(model_state)\n",
    "\n",
    "    model = model.to(device)\n",
    "    return model\n"
   ]
  },
  {
   "cell_type": "markdown",
   "id": "44c7bb8a-0ebc-43e1-95cc-28ee66ace308",
   "metadata": {},
   "source": [
    "now, you considering your options (either have the base (or finetuned) weights local or not), you can have the inference model as easy as following:"
   ]
  },
  {
   "cell_type": "code",
   "execution_count": null,
   "id": "5cd76ac2-0803-410c-af2e-92efd53d6860",
   "metadata": {},
   "outputs": [],
   "source": [
    "model = load_finetuned_resnet50()\n",
    "# or if you had the either of the weights, you could pass the .pth path as the parameter:\n",
    "# model = load_finetuned_resnet50(\n",
    "#     base_model_path=\"path/to/your/base_resnet50.pth\"\n",
    "# )"
   ]
  }
 ],
 "metadata": {
  "kernelspec": {
   "display_name": "new",
   "language": "python",
   "name": "python3"
  },
  "language_info": {
   "codemirror_mode": {
    "name": "ipython",
    "version": 3
   },
   "file_extension": ".py",
   "mimetype": "text/x-python",
   "name": "python",
   "nbconvert_exporter": "python",
   "pygments_lexer": "ipython3",
   "version": "3.11.11"
  }
 },
 "nbformat": 4,
 "nbformat_minor": 5
}
