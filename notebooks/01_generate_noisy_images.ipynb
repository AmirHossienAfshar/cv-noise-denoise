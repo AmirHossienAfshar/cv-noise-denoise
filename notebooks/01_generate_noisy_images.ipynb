{
  "cells": [
    {
      "cell_type": "code",
      "execution_count": 4,
      "id": "776866e4-3f67-45e0-9b3f-e69376b87593",
      "metadata": {
        "id": "776866e4-3f67-45e0-9b3f-e69376b87593"
      },
      "outputs": [],
      "source": [
        "import os\n",
        "import numpy as np\n",
        "from tqdm import tqdm\n",
        "from PIL import Image\n",
        "import random"
      ]
    },
    {
      "cell_type": "code",
      "execution_count": 6,
      "id": "ed698ce1-bcfc-4b02-9e32-e3d4b9c63a90",
      "metadata": {
        "id": "ed698ce1-bcfc-4b02-9e32-e3d4b9c63a90"
      },
      "outputs": [],
      "source": [
        "current_dir = os.getcwd()\n",
        "CLEAN_DIR = os.path.join(current_dir, \"content\", \"data\", \"clean\")\n",
        "NOISY_BASE_DIR = os.path.join(current_dir, \"content\", \"data\", \"noisy\")\n",
        "os.makedirs(CLEAN_DIR, exist_ok=True)\n",
        "os.makedirs(NOISY_BASE_DIR, exist_ok=True)"
      ]
    },
    {
      "cell_type": "code",
      "execution_count": 8,
      "id": "86f955e5-3f8f-4a82-900e-e4c0581f95f5",
      "metadata": {
        "id": "86f955e5-3f8f-4a82-900e-e4c0581f95f5"
      },
      "outputs": [],
      "source": [
        "GAUSSIAN_DIR = os.path.join(NOISY_BASE_DIR, \"gaussian\")\n",
        "SALT_PEPPER_DIR = os.path.join(NOISY_BASE_DIR, \"salt_pepper\")\n",
        "POISSON_DIR = os.path.join(NOISY_BASE_DIR, \"poisson\")\n",
        "SPECKLE_DIR = os.path.join(NOISY_BASE_DIR, \"speckle\")\n",
        "UNIFORM_DIR = os.path.join(NOISY_BASE_DIR, \"uniform\")"
      ]
    },
    {
      "cell_type": "code",
      "execution_count": 9,
      "id": "96e2cf95-ffae-4c7c-962f-e9c79329795f",
      "metadata": {
        "id": "96e2cf95-ffae-4c7c-962f-e9c79329795f"
      },
      "outputs": [],
      "source": [
        "GAUSSIAN_SALT_PEPPER_DIR = os.path.join(NOISY_BASE_DIR, \"gaussian_salt_pepper\")\n",
        "GAUSSIAN_POISSON_DIR = os.path.join(NOISY_BASE_DIR, \"gaussian_poisson\")\n",
        "GAUSSIAN_SPECKLE_DIR = os.path.join(NOISY_BASE_DIR, \"gaussian_speckle\")\n",
        "GAUSSIAN_UNIFORM_DIR = os.path.join(NOISY_BASE_DIR, \"gaussian_uniform\")\n",
        "SALT_PEPPER_SPECKLE_DIR = os.path.join(NOISY_BASE_DIR, \"salt_pepper_speckle\")\n",
        "SALT_PEPPER_UNIFORM_DIR = os.path.join(NOISY_BASE_DIR, \"salt_pepper_uniform\")\n",
        "POISSON_SPECKLE_DIR = os.path.join(NOISY_BASE_DIR, \"poisson_speckle\")\n",
        "POISSON_UNIFORM_DIR = os.path.join(NOISY_BASE_DIR, \"poisson_uniform\")\n",
        "SPECKLE_UNIFORM_DIR = os.path.join(NOISY_BASE_DIR, \"speckle_uniform\")"
      ]
    },
    {
      "cell_type": "code",
      "execution_count": 10,
      "id": "042987da-709c-408f-8155-de1e7b174d5c",
      "metadata": {
        "id": "042987da-709c-408f-8155-de1e7b174d5c"
      },
      "outputs": [],
      "source": [
        "GAUSSIAN_SALT_PEPPER_SPECKLE_DIR = os.path.join(NOISY_BASE_DIR, \"gaussian_salt_pepper_speckle\")\n",
        "GAUSSIAN_POISSON_UNIFORM_DIR = os.path.join(NOISY_BASE_DIR, \"gaussian_poisson_uniform\")\n",
        "SALT_PEPPER_SPECKLE_UNIFORM_DIR = os.path.join(NOISY_BASE_DIR, \"salt_pepper_speckle_uniform\")"
      ]
    },
    {
      "cell_type": "code",
      "execution_count": 11,
      "id": "5cf7684a-a6e2-4d3e-b958-65d66633da54",
      "metadata": {
        "id": "5cf7684a-a6e2-4d3e-b958-65d66633da54"
      },
      "outputs": [],
      "source": [
        "noise_dirs = [\n",
        "    GAUSSIAN_DIR, SALT_PEPPER_DIR, POISSON_DIR, SPECKLE_DIR, UNIFORM_DIR,\n",
        "    GAUSSIAN_SALT_PEPPER_DIR, GAUSSIAN_POISSON_DIR, GAUSSIAN_SPECKLE_DIR, GAUSSIAN_UNIFORM_DIR,\n",
        "    SALT_PEPPER_SPECKLE_DIR, SALT_PEPPER_UNIFORM_DIR, POISSON_SPECKLE_DIR, POISSON_UNIFORM_DIR,\n",
        "    SPECKLE_UNIFORM_DIR, GAUSSIAN_SALT_PEPPER_SPECKLE_DIR, GAUSSIAN_POISSON_UNIFORM_DIR,\n",
        "    SALT_PEPPER_SPECKLE_UNIFORM_DIR\n",
        "]"
      ]
    },
    {
      "cell_type": "code",
      "execution_count": 12,
      "id": "729f0812-dde7-4049-b0ea-b7334774c7a2",
      "metadata": {
        "id": "729f0812-dde7-4049-b0ea-b7334774c7a2"
      },
      "outputs": [],
      "source": [
        "for dir_path in noise_dirs:\n",
        "    os.makedirs(dir_path, exist_ok=True)\n"
      ]
    },
    {
      "cell_type": "code",
      "execution_count": 13,
      "id": "fe32408e-2941-4647-b2d9-5e31f9ca180a",
      "metadata": {
        "id": "fe32408e-2941-4647-b2d9-5e31f9ca180a"
      },
      "outputs": [],
      "source": [
        "def add_gaussian_noise(image_array, mean=0, std=25):\n",
        "    \"\"\"Add Gaussian noise to image\"\"\"\n",
        "    noise = np.random.normal(mean, std, image_array.shape)\n",
        "    noisy_image = image_array + noise\n",
        "    return np.clip(noisy_image, 0, 255).astype(np.uint8)\n",
        "\n",
        "def add_salt_pepper_noise(image_array, salt_prob=0.05, pepper_prob=0.05):\n",
        "    \"\"\"Add salt and pepper noise to image\"\"\"\n",
        "    noisy_image = image_array.copy()\n",
        "\n",
        "    # Salt noise (white pixels)\n",
        "    salt_mask = np.random.random(image_array.shape[:2]) < salt_prob\n",
        "    noisy_image[salt_mask] = 255\n",
        "\n",
        "    # Pepper noise (black pixels)\n",
        "    pepper_mask = np.random.random(image_array.shape[:2]) < pepper_prob\n",
        "    noisy_image[pepper_mask] = 0\n",
        "\n",
        "    return noisy_image\n",
        "\n",
        "def add_poisson_noise(image_array):\n",
        "    \"\"\"Add Poisson noise to image\"\"\"\n",
        "    # Convert to float, add poisson noise, then convert back\n",
        "    image_float = image_array.astype(np.float32)\n",
        "    noisy_image = np.random.poisson(image_float / 255.0 * 50) / 50.0 * 255.0\n",
        "    return np.clip(noisy_image, 0, 255).astype(np.uint8)\n",
        "\n",
        "def add_speckle_noise(image_array, variance=0.1):\n",
        "    \"\"\"Add speckle noise to image\"\"\"\n",
        "    noise = np.random.normal(0, variance, image_array.shape)\n",
        "    noisy_image = image_array + image_array * noise\n",
        "    return np.clip(noisy_image, 0, 255).astype(np.uint8)\n",
        "\n",
        "def add_uniform_noise(image_array, low=-20, high=20):\n",
        "    \"\"\"Add uniform noise to image\"\"\"\n",
        "    noise = np.random.uniform(low, high, image_array.shape)\n",
        "    noisy_image = image_array + noise\n",
        "    return np.clip(noisy_image, 0, 255).astype(np.uint8)\n"
      ]
    },
    {
      "cell_type": "code",
      "execution_count": 14,
      "id": "23531ba5-38a8-4778-ba30-46112f431c04",
      "metadata": {
        "id": "23531ba5-38a8-4778-ba30-46112f431c04"
      },
      "outputs": [],
      "source": [
        "def process_images_with_noise():\n",
        "    \"\"\"Process all clean images and add different types of noise\"\"\"\n",
        "\n",
        "    # Get all clean images\n",
        "    clean_images = [f for f in os.listdir(CLEAN_DIR) if f.endswith('.png')]\n",
        "    print(f\"Found {len(clean_images)} clean images to process\")\n",
        "\n",
        "    for img_name in tqdm(clean_images, desc=\"Processing images\"):\n",
        "        img_path = os.path.join(CLEAN_DIR, img_name)\n",
        "\n",
        "        try:\n",
        "            # Load image\n",
        "            img = Image.open(img_path).convert(\"RGB\")\n",
        "            img_array = np.array(img)\n",
        "\n",
        "            # Apply individual noise types\n",
        "            gaussian_noisy = add_gaussian_noise(img_array)\n",
        "            salt_pepper_noisy = add_salt_pepper_noise(img_array)\n",
        "            poisson_noisy = add_poisson_noise(img_array)\n",
        "            speckle_noisy = add_speckle_noise(img_array)\n",
        "            uniform_noisy = add_uniform_noise(img_array)\n",
        "\n",
        "            # Apply combination noise types\n",
        "            gaussian_salt_pepper = add_salt_pepper_noise(add_gaussian_noise(img_array))\n",
        "            gaussian_poisson = add_poisson_noise(add_gaussian_noise(img_array))\n",
        "            gaussian_speckle = add_speckle_noise(add_gaussian_noise(img_array))\n",
        "            gaussian_uniform = add_uniform_noise(add_gaussian_noise(img_array))\n",
        "            salt_pepper_speckle = add_speckle_noise(add_salt_pepper_noise(img_array))\n",
        "            salt_pepper_uniform = add_uniform_noise(add_salt_pepper_noise(img_array))\n",
        "            poisson_speckle = add_speckle_noise(add_poisson_noise(img_array))\n",
        "            poisson_uniform = add_uniform_noise(add_poisson_noise(img_array))\n",
        "            speckle_uniform = add_uniform_noise(add_speckle_noise(img_array))\n",
        "\n",
        "            # Apply triple combinations\n",
        "            gaussian_salt_pepper_speckle = add_speckle_noise(add_salt_pepper_noise(add_gaussian_noise(img_array)))\n",
        "            gaussian_poisson_uniform = add_uniform_noise(add_poisson_noise(add_gaussian_noise(img_array)))\n",
        "            salt_pepper_speckle_uniform = add_uniform_noise(add_speckle_noise(add_salt_pepper_noise(img_array)))\n",
        "\n",
        "            # Save individual noise types\n",
        "            Image.fromarray(gaussian_noisy).save(os.path.join(GAUSSIAN_DIR, img_name))\n",
        "            Image.fromarray(salt_pepper_noisy).save(os.path.join(SALT_PEPPER_DIR, img_name))\n",
        "            Image.fromarray(poisson_noisy).save(os.path.join(POISSON_DIR, img_name))\n",
        "            Image.fromarray(speckle_noisy).save(os.path.join(SPECKLE_DIR, img_name))\n",
        "            Image.fromarray(uniform_noisy).save(os.path.join(UNIFORM_DIR, img_name))\n",
        "\n",
        "            # Save combination noise types\n",
        "            Image.fromarray(gaussian_salt_pepper).save(os.path.join(GAUSSIAN_SALT_PEPPER_DIR, img_name))\n",
        "            Image.fromarray(gaussian_poisson).save(os.path.join(GAUSSIAN_POISSON_DIR, img_name))\n",
        "            Image.fromarray(gaussian_speckle).save(os.path.join(GAUSSIAN_SPECKLE_DIR, img_name))\n",
        "            Image.fromarray(gaussian_uniform).save(os.path.join(GAUSSIAN_UNIFORM_DIR, img_name))\n",
        "            Image.fromarray(salt_pepper_speckle).save(os.path.join(SALT_PEPPER_SPECKLE_DIR, img_name))\n",
        "            Image.fromarray(salt_pepper_uniform).save(os.path.join(SALT_PEPPER_UNIFORM_DIR, img_name))\n",
        "            Image.fromarray(poisson_speckle).save(os.path.join(POISSON_SPECKLE_DIR, img_name))\n",
        "            Image.fromarray(poisson_uniform).save(os.path.join(POISSON_UNIFORM_DIR, img_name))\n",
        "            Image.fromarray(speckle_uniform).save(os.path.join(SPECKLE_UNIFORM_DIR, img_name))\n",
        "\n",
        "            # Save triple combinations\n",
        "            Image.fromarray(gaussian_salt_pepper_speckle).save(os.path.join(GAUSSIAN_SALT_PEPPER_SPECKLE_DIR, img_name))\n",
        "            Image.fromarray(gaussian_poisson_uniform).save(os.path.join(GAUSSIAN_POISSON_UNIFORM_DIR, img_name))\n",
        "            Image.fromarray(salt_pepper_speckle_uniform).save(os.path.join(SALT_PEPPER_SPECKLE_UNIFORM_DIR, img_name))\n",
        "\n",
        "        except Exception as e:\n",
        "            print(f\"Failed to process {img_name}: {e}\")\n",
        "\n",
        "    print(f\"\\n----Noise addition completed!\")\n",
        "    print(f\"Clean images: {len(clean_images)}\")\n",
        "    print(f\"Noise directories created: {len(noise_dirs)}\")\n",
        "    print(f\"Total noisy images generated: {len(clean_images) * len(noise_dirs)}\")"
      ]
    },
    {
      "cell_type": "code",
      "execution_count": 15,
      "id": "50f654e8-172b-47e5-8ce3-00000e7c0ad6",
      "metadata": {
        "colab": {
          "base_uri": "https://localhost:8080/"
        },
        "id": "50f654e8-172b-47e5-8ce3-00000e7c0ad6",
        "outputId": "7ce58d3e-4d5c-452d-f502-4341ef363384"
      },
      "outputs": [
        {
          "name": "stdout",
          "output_type": "stream",
          "text": [
            "Found 3009 clean images to process\n"
          ]
        },
        {
          "name": "stderr",
          "output_type": "stream",
          "text": [
            "Processing images: 100%|██████████| 3009/3009 [17:45<00:00,  2.82it/s]"
          ]
        },
        {
          "name": "stdout",
          "output_type": "stream",
          "text": [
            "\n",
            "----Noise addition completed!\n",
            "Clean images: 3009\n",
            "Noise directories created: 17\n",
            "Total noisy images generated: 51153\n"
          ]
        },
        {
          "name": "stderr",
          "output_type": "stream",
          "text": [
            "\n"
          ]
        }
      ],
      "source": [
        "process_images_with_noise()"
      ]
    },
    {
      "cell_type": "markdown",
      "id": "EEXRtd_44aKA",
      "metadata": {
        "id": "EEXRtd_44aKA"
      },
      "source": []
    }
  ],
  "metadata": {
    "accelerator": "GPU",
    "colab": {
      "gpuType": "T4",
      "provenance": []
    },
    "kernelspec": {
      "display_name": "Python 3",
      "name": "python3"
    },
    "language_info": {
      "name": "python"
    }
  },
  "nbformat": 4,
  "nbformat_minor": 5
}
